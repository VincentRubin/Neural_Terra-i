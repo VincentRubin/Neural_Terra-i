{
 "cells": [
  {
   "cell_type": "code",
   "execution_count": 22,
   "id": "b63deb32",
   "metadata": {},
   "outputs": [],
   "source": [
    "import os\n",
    "currentPath = os.getcwd()\n",
    "\n",
    "import configparser\n",
    "settings = configparser.ConfigParser()\n",
    "settings._interpolation = configparser.ExtendedInterpolation()\n",
    "settings.read(currentPath + \"/config/main_config.ini\")\n",
    "\n",
    "libs_path = settings.get('Main-Config', 'libs')\n",
    "output_path = settings.get('Main-Config', 'output_path') + \"/rotated_subset_ot\"\n",
    "\n",
    "subsetSizeX = int(settings.get('Main-Config', 'subsetSizeX'))\n",
    "subsetSizeY = int(settings.get('Main-Config', 'subsetSizeY'))\n",
    "marginX = int(settings.get('Main-Config', 'marginX'))\n",
    "marginY = int(settings.get('Main-Config', 'marginY'))\n",
    "\n",
    "import sys\n",
    "sys.path.append(libs_path)\n",
    "\n",
    "from osgeo import gdal,ogr, osr\n",
    "gdal.UseExceptions()\n",
    "ogr.UseExceptions()\n",
    "osr.UseExceptions()\n",
    "\n",
    "import snappy\n",
    "from snappy import ProductIO\n",
    "from snappy import HashMap\n",
    "from snappy import GPF\n",
    "from snappy import jpy\n",
    "\n",
    "import os\n",
    "import os.path\n",
    "from collections import OrderedDict\n",
    "from datetime import datetime\n",
    "import datetime\n",
    "from datetime import timedelta, date\n",
    "import time\n",
    "\n",
    "import numpy as np\n",
    "import glob\n",
    "from itertools import cycle\n",
    "import math\n",
    "import shutil\n",
    "import json\n",
    "import geojson\n",
    "import random\n",
    "\n",
    "import array\n",
    "import numpy as np\n",
    "import itertools\n",
    "import matplotlib.pyplot as plt\n",
    "\n",
    "# https://stackoverflow.com/questions/24816237/ipython-notebook-clear-cell-output-in-code\n",
    "from IPython.display import clear_output\n",
    "\n",
    "outFormat = 'ESRI Shapefile'\n",
    "\n",
    "GPF.getDefaultInstance().getOperatorSpiRegistry().loadOperatorSpis()\n",
    "HashMap = snappy.jpy.get_type('java.util.HashMap')\n",
    "\n",
    "System = jpy.get_type('java.lang.System')\n",
    "System.gc()\n",
    "\n",
    "PrintWriterProgressMonitor = jpy.get_type('com.bc.ceres.core.PrintWriterProgressMonitor')\n",
    "FileOutputStream = jpy.get_type('java.io.FileOutputStream')\n",
    "ProductData = jpy.get_type('org.esa.snap.core.datamodel.ProductData')\n",
    "Product = jpy.get_type('org.esa.snap.core.datamodel.Product')\n",
    "GeoPos = jpy.get_type('org.esa.snap.core.datamodel.GeoPos')\n",
    "PixelPos = jpy.get_type('org.esa.snap.core.datamodel.PixelPos')\n",
    "\n",
    "from keras.datasets import mnist\n",
    "from keras.models import Model\n",
    "from keras.layers.core import Dense, Dropout, Flatten, Reshape\n",
    "#from tensorflow.keras.optimizers import RMSprop\n",
    "from keras.utils import np_utils\n",
    "from keras.layers.convolutional import Conv2D, MaxPooling2D, UpSampling2D, SeparableConv2D\n",
    "from keras.layers import Input, BatchNormalization\n",
    "from sklearn import metrics as me\n",
    "from scipy import stats\n",
    "from keras import models\n",
    "from keras import layers\n",
    "from sklearn.preprocessing import Normalizer\n",
    "\n",
    "import tensorflow as tf\n",
    "\n",
    "folderStart = \"K:/TM/data_output/subset_start_ot\"\n",
    "folderResult = \"K:/TM/data_output/subset_rotated_ot\""
   ]
  },
  {
   "cell_type": "code",
   "execution_count": 62,
   "id": "27c28074",
   "metadata": {},
   "outputs": [],
   "source": [
    "def getProductList(path, search, permutations):\n",
    "    \n",
    "    #products = []\n",
    "    products = []\n",
    "    \n",
    "    lbs_input_path = os.path.join(path, search)\n",
    "    files = glob.glob(lbs_input_path)\n",
    "\n",
    "    i = 0\n",
    "    \n",
    "    for index in permutations:\n",
    "        temp = np.load(files[index])\n",
    "        products.append(temp['arr_0'])\n",
    "        \n",
    "        if i < 5:\n",
    "            print(files[index])\n",
    "            i += 1\n",
    "        \n",
    "    return products\n",
    "    \n",
    "def getProductList2(path, search, permutations): #TEMP\n",
    "    \n",
    "    products = []\n",
    "    \n",
    "    folders = os.listdir(path)\n",
    "        \n",
    "    i = 0\n",
    "        \n",
    "    for index in permutations:\n",
    "        \n",
    "        if i < 5:\n",
    "            print(folders[index])\n",
    "            i += 1\n",
    "        \n",
    "        pathF = folders[index]\n",
    "        \n",
    "        for pathF2 in os.listdir(path + \"/\" + pathF):\n",
    "        \n",
    "            if search in pathF2:\n",
    "                temp = np.load(path + \"/\" + pathF + \"/\" + pathF2)\n",
    "                products.append(temp['arr_0'])\n",
    "            \n",
    "    return products\n",
    "\n",
    "def getIndicesPermutation(path, search):\n",
    "    \n",
    "    lbs_input_path = os.path.join(path, search)\n",
    "    files = glob.glob(lbs_input_path)\n",
    "    \n",
    "    p = np.random.permutation(len(files))\n",
    "    \n",
    "    return p\n",
    "\n",
    "def getProductFileList(path, search):\n",
    "    \n",
    "    lbs_input_path = os.path.join(path, search)\n",
    "    files = glob.glob(lbs_input_path)\n",
    "\n",
    "    return files"
   ]
  },
  {
   "cell_type": "code",
   "execution_count": 55,
   "id": "5c467209",
   "metadata": {},
   "outputs": [],
   "source": [
    "def reduceData(data):\n",
    "    \n",
    "    return None"
   ]
  },
  {
   "cell_type": "code",
   "execution_count": 66,
   "id": "4ed3ea36",
   "metadata": {},
   "outputs": [
    {
     "name": "stdout",
     "output_type": "stream",
     "text": [
      "K:/TM/data_output/subset_start_ot\\S1A_IW_GRDH_1SDV_20210826T101413_20210826T101438_039399_04A776_7B55_491_58.npz\n",
      "K:/TM/data_output/subset_start_ot\\S1A_IW_GRDH_1SDV_20210826T101413_20210826T101438_039399_04A776_7B55_477_165.npz\n",
      "K:/TM/data_output/subset_start_ot\\S1A_IW_GRDH_1SDV_20210826T101413_20210826T101438_039399_04A776_7B55_492_285.npz\n",
      "K:/TM/data_output/subset_start_ot\\S1A_IW_GRDH_1SDV_20210826T101413_20210826T101438_039399_04A776_7B55_457_171.npz\n",
      "K:/TM/data_output/subset_start_ot\\S1A_IW_GRDH_1SDV_20210826T101413_20210826T101438_039399_04A776_7B55_469_61.npz\n",
      "S1A_IW_GRDH_1SDV_20210826T101413_20210826T101438_039399_04A776_7B55_491_58\n",
      "S1A_IW_GRDH_1SDV_20210826T101413_20210826T101438_039399_04A776_7B55_477_165\n",
      "S1A_IW_GRDH_1SDV_20210826T101413_20210826T101438_039399_04A776_7B55_492_285\n",
      "S1A_IW_GRDH_1SDV_20210826T101413_20210826T101438_039399_04A776_7B55_457_171\n",
      "S1A_IW_GRDH_1SDV_20210826T101413_20210826T101438_039399_04A776_7B55_469_61\n"
     ]
    }
   ],
   "source": [
    "p = getIndicesPermutation(folderStart, '*.npz')\n",
    "\n",
    "subsetStarts = getProductList(folderStart, '*.npz', p)\n",
    "Y = getProductList2(folderResult, 'VV.npz', p)"
   ]
  },
  {
   "cell_type": "code",
   "execution_count": null,
   "id": "785b25b7",
   "metadata": {},
   "outputs": [],
   "source": [
    "print(len(subsetStarts))\n",
    "print(len(Y))\n",
    "\n",
    "print(len(subsetStarts[0]))\n",
    "print(len(subsetStarts[0][0]))\n",
    "print(len(subsetStarts[0][0][0]))\n",
    "\n",
    "print(len(Y[0]))\n",
    "print(len(Y[0][0]))\n",
    "\n",
    "print(type(subsetStarts))\n",
    "print(type(Y))"
   ]
  },
  {
   "cell_type": "code",
   "execution_count": 4,
   "id": "abfb6c88",
   "metadata": {},
   "outputs": [],
   "source": [
    "X = []\n",
    "\n",
    "for x_ in subsetStarts:\n",
    "    \n",
    "    X.append(x_[1:])\n",
    "\n",
    "del subsetStarts"
   ]
  },
  {
   "cell_type": "code",
   "execution_count": 5,
   "id": "8d0e009a",
   "metadata": {},
   "outputs": [
    {
     "name": "stdout",
     "output_type": "stream",
     "text": [
      "12432\n",
      "7\n",
      "12432\n"
     ]
    }
   ],
   "source": [
    "print(len(X))\n",
    "print(len(X[0]))\n",
    "print(len(Y))"
   ]
  },
  {
   "cell_type": "code",
   "execution_count": 6,
   "id": "e46d6006",
   "metadata": {},
   "outputs": [
    {
     "name": "stdout",
     "output_type": "stream",
     "text": [
      "10000\n",
      "10000\n",
      "2432\n",
      "2432\n"
     ]
    }
   ],
   "source": [
    "X_trainL = X[:10000] \n",
    "Y_trainL = Y[:10000]\n",
    "\n",
    "X_testL = X[10000:]\n",
    "Y_testL = Y[10000:]\n",
    "\n",
    "del X\n",
    "del Y\n",
    "\n",
    "print(len(X_trainL))\n",
    "print(len(Y_trainL))\n",
    "print(len(X_testL))\n",
    "print(len(Y_testL))"
   ]
  },
  {
   "cell_type": "code",
   "execution_count": null,
   "id": "a5da990e",
   "metadata": {},
   "outputs": [],
   "source": [
    "print(len(X_train))\n",
    "print(len(X_train[0]))\n",
    "print(len(X_train[0][0]))\n",
    "print(len(X_train[0][0][0]))"
   ]
  },
  {
   "cell_type": "code",
   "execution_count": null,
   "id": "a495d7d7",
   "metadata": {},
   "outputs": [],
   "source": [
    "print(len(Y_train))\n",
    "print(len(Y_train[0]))\n",
    "print(len(Y_train[0][0]))\n",
    "print(len(Y_train[0][0][0]))"
   ]
  },
  {
   "cell_type": "code",
   "execution_count": 7,
   "id": "ce1a5abe",
   "metadata": {},
   "outputs": [
    {
     "name": "stdout",
     "output_type": "stream",
     "text": [
      "<class 'list'>\n",
      "<class 'list'>\n",
      "<class 'list'>\n",
      "<class 'list'>\n",
      "<class 'numpy.ndarray'>\n",
      "<class 'numpy.ndarray'>\n",
      "<class 'numpy.ndarray'>\n",
      "<class 'numpy.ndarray'>\n"
     ]
    }
   ],
   "source": [
    "print(type(X_trainL))\n",
    "print(type(Y_trainL))\n",
    "print(type(X_testL))\n",
    "print(type(Y_testL))\n",
    "\n",
    "X_train = np.array(X_trainL)\n",
    "del X_trainL\n",
    "\n",
    "Y_train = np.array(Y_trainL)\n",
    "del Y_trainL\n",
    "\n",
    "X_test = np.array(X_testL)\n",
    "del X_testL\n",
    "\n",
    "Y_test = np.array(Y_testL)\n",
    "del Y_testL\n",
    "\n",
    "print(type(X_train))\n",
    "print(type(Y_train))\n",
    "print(type(X_test))\n",
    "print(type(Y_test))"
   ]
  },
  {
   "cell_type": "code",
   "execution_count": null,
   "id": "4c74dffd",
   "metadata": {},
   "outputs": [],
   "source": [
    "print(X_train[0][0][0][0])\n",
    "print(X_train[0][1][0][0])\n",
    "print(X_train[0][2][0][0])\n",
    "print(X_train[0][3][0][0])\n",
    "print(X_train[0][4][0][0])\n",
    "print(X_train[0][5][0][0])\n",
    "print(X_train[0][6][0][0])"
   ]
  },
  {
   "cell_type": "code",
   "execution_count": 8,
   "id": "f1073062",
   "metadata": {},
   "outputs": [
    {
     "name": "stdout",
     "output_type": "stream",
     "text": [
      "(10000, 7, 50, 50)\n",
      "(10000, 50, 7, 50)\n",
      "(10000, 50, 50, 7)\n",
      "(2432, 50, 50, 7)\n"
     ]
    }
   ],
   "source": [
    "print(X_train.shape)\n",
    "\n",
    "X_train = np.swapaxes(X_train, 1, 2)\n",
    "\n",
    "print(X_train.shape)\n",
    "\n",
    "X_train = np.swapaxes(X_train, 2, 3)\n",
    "\n",
    "print(X_train.shape)\n",
    "\n",
    "X_test = np.swapaxes(X_test, 1, 2)\n",
    "X_test = np.swapaxes(X_test, 2, 3)\n",
    "\n",
    "print(X_test.shape)"
   ]
  },
  {
   "cell_type": "code",
   "execution_count": null,
   "id": "36b1dcf4",
   "metadata": {},
   "outputs": [],
   "source": [
    "print(X_train[0][0][0][0])\n",
    "print(X_train[0][0][0][1])\n",
    "print(X_train[0][0][0][2])\n",
    "print(X_train[0][0][0][3])\n",
    "print(X_train[0][0][0][4])\n",
    "print(X_train[0][0][0][5])\n",
    "print(X_train[0][0][0][6])\n",
    "\n",
    "print(X_train[0][0][0])"
   ]
  },
  {
   "cell_type": "code",
   "execution_count": 8,
   "id": "e0b97b88",
   "metadata": {},
   "outputs": [
    {
     "name": "stdout",
     "output_type": "stream",
     "text": [
      "(80000, 50, 50)\n",
      "(20000, 50, 50)\n"
     ]
    }
   ],
   "source": [
    "print(Y_train.shape)\n",
    "print(Y_test.shape)"
   ]
  },
  {
   "cell_type": "code",
   "execution_count": null,
   "id": "3519de0a",
   "metadata": {},
   "outputs": [],
   "source": [
    "print(Y_train[0][0][0])\n",
    "print(Y_train[0][0][1])\n",
    "print(Y_train[0][1][0])\n",
    "print(Y_train[0][54][78])\n",
    "print(Y_train[0][120][120])\n",
    "print(Y_train[0][450][40])\n",
    "print(Y_train[0][499][450])\n",
    "print(Y_train[0][120][430])\n",
    "print(Y_train[0][40][70])\n",
    "print(Y_train[0][405][60])\n",
    "print(Y_train[0][40][230])"
   ]
  },
  {
   "cell_type": "code",
   "execution_count": 11,
   "id": "de710167",
   "metadata": {},
   "outputs": [
    {
     "name": "stdout",
     "output_type": "stream",
     "text": [
      "80000\n",
      "50\n",
      "50\n"
     ]
    }
   ],
   "source": [
    "print(len(Y_train))\n",
    "print(len(Y_train[0]))\n",
    "print(len(Y_train[0][0]))"
   ]
  },
  {
   "cell_type": "code",
   "execution_count": 10,
   "id": "0b372357",
   "metadata": {},
   "outputs": [],
   "source": [
    "Y_train = Y_train.reshape(len(Y_train), len(Y_train[0]), len(Y_train[0][0]), 1).astype('float32')\n",
    "Y_test = Y_test.reshape(len(Y_test), len(Y_test[0]), len(Y_test[0][0]), 1).astype('float32')"
   ]
  },
  {
   "cell_type": "code",
   "execution_count": null,
   "id": "7d25015d",
   "metadata": {},
   "outputs": [],
   "source": [
    "print(Y_train[0][0][0])\n",
    "print(Y_train[0][0][1])\n",
    "print(Y_train[0][1][0])\n",
    "print(Y_train[0][54][78])\n",
    "print(Y_train[0][120][120])\n",
    "print(Y_train[0][450][40])\n",
    "print(Y_train[0][499][450])\n",
    "print(Y_train[0][120][430])\n",
    "print(Y_train[0][40][70])\n",
    "print(Y_train[0][405][60])\n",
    "print(Y_train[0][40][230])"
   ]
  },
  {
   "cell_type": "code",
   "execution_count": null,
   "id": "afdbc894",
   "metadata": {},
   "outputs": [],
   "source": [
    "Y_train_max = np.amax(Y_train)\n",
    "Y_train_min = np.amin(Y_train)\n",
    "\n",
    "print(Y_train_max)\n",
    "print(Y_train_min)\n",
    "\n",
    "Y_train = (Y_train - Y_train_min) / (Y_train_max - Y_train_min + 0.00000001)\n",
    "\n",
    "print(np.amax(Y_train))\n",
    "print(np.amin(Y_train))"
   ]
  },
  {
   "cell_type": "code",
   "execution_count": null,
   "id": "2d814904",
   "metadata": {},
   "outputs": [],
   "source": [
    "# OLD\n",
    "\n",
    "#l0 = Input(shape=(height, width, 9), name='l0')\n",
    "\n",
    "#l0 = Input(shape=(len(subsetResults[0]), len(subsetResults[0][0]), 7), name='l0')\n",
    "\n",
    "l0 = Input(shape=(50, 50, 7), name='l0')\n",
    "l0_n = BatchNormalization()(l0)\n",
    "\n",
    "l1 = Conv2D(7, (5, 5), padding='same', activation='relu', name='l1')(l0_n)\n",
    "l1_mp = MaxPooling2D((2, 2), name='l1_mp')(l1)\n",
    "\n",
    "l2 = Conv2D(7, (3, 3), padding='same', activation='relu', name='l2')(l1_mp)\n",
    "#l2_mp = MaxPooling2D((5, 5), name='l2_mp')(l2)\n",
    "\n",
    "#l22 = Conv2D(14, (5, 5), padding='same', activation='relu', name='l22')(l2)\n",
    "\n",
    "l3 = Conv2D(7, (5, 5), padding='same', activation='relu', name='l3')(l2)\n",
    "l3_us = UpSampling2D((2, 2))(l3)\n",
    "\n",
    "l4 = Conv2D(1, (5, 5), padding='same', activation='relu', name='l4')(l3_us)\n",
    "l4_us = UpSampling2D((2, 2))(l4)\n",
    "\n",
    "l45 = Conv2D(1, (3, 3), padding='same', activation='relu', name='l45')(l4_us)\n",
    "l45_mp = MaxPooling2D(pool_size=(2, 2), name='l45_mp')(l45)\n",
    "\n",
    "l5 = Conv2D(1, (5, 5), padding='same', activation='relu', name='l5')(l45_mp)\n",
    "\n",
    "#flat = Flatten(name='flat')(l4_us)\n",
    "\n",
    "#l5 = Dense((250, 250), activation='relu', name='l5')(flat)\n",
    "\n",
    "#l5 = Dense(n_classes, activation='softmax', name='l5')(l4)\n",
    "\n",
    "model = Model(inputs=l0, outputs=l5)\n",
    "model.summary()"
   ]
  },
  {
   "cell_type": "code",
   "execution_count": 29,
   "id": "04caa40c",
   "metadata": {
    "scrolled": true
   },
   "outputs": [
    {
     "name": "stdout",
     "output_type": "stream",
     "text": [
      "Model: \"model_13\"\n",
      "_________________________________________________________________\n",
      "Layer (type)                 Output Shape              Param #   \n",
      "=================================================================\n",
      "l0 (InputLayer)              (None, 50, 50, 7)         0         \n",
      "_________________________________________________________________\n",
      "batch_normalization_16 (Batc (None, 50, 50, 7)         28        \n",
      "_________________________________________________________________\n",
      "l1 (Conv2D)                  (None, 50, 50, 7)         1232      \n",
      "_________________________________________________________________\n",
      "l5 (Conv2D)                  (None, 50, 50, 1)         64        \n",
      "_________________________________________________________________\n",
      "flat (Flatten)               (None, 2500)              0         \n",
      "_________________________________________________________________\n",
      "l6 (Dense)                   (None, 2500)              6252500   \n",
      "_________________________________________________________________\n",
      "l7 (Reshape)                 (None, 50, 50, 1)         0         \n",
      "=================================================================\n",
      "Total params: 6,253,824\n",
      "Trainable params: 6,253,810\n",
      "Non-trainable params: 14\n",
      "_________________________________________________________________\n"
     ]
    }
   ],
   "source": [
    "#l0 = Input(shape=(height, width, 9), name='l0')\n",
    "\n",
    "#l0 = Input(shape=(len(subsetResults[0]), len(subsetResults[0][0]), 7), name='l0')\n",
    "\n",
    "l0 = Input(shape=(50, 50, 7), name='l0')\n",
    "l0_n = BatchNormalization()(l0)\n",
    "\n",
    "l1 = Conv2D(7, (5, 5), padding='same', activation='relu', name='l1')(l0_n)\n",
    "\n",
    "#l2 = Conv2D(7, (3, 3), padding='same', activation='softmax', name='l2')(l1)\n",
    "\n",
    "#l3 = SeparableConv2D(7, (5, 5), padding='same', activation='relu', name='l3')(l2)\n",
    "\n",
    "#l4 = Conv2D(1, (5, 5), padding='same', activation='sigmoid', name='l4')(l3)\n",
    "\n",
    "l5 = Conv2D(1, (3, 3), padding='same', activation='sigmoid', name='l5')(l1)\n",
    "\n",
    "flat = Flatten(name='flat')(l5)\n",
    "\n",
    "l6 = Dense(2500, activation='relu', name='l6')(flat)\n",
    "\n",
    "l7 = Reshape((50, 50, 1), name='l7')(l6)\n",
    "\n",
    "#l5 = Dense(n_classes, activation='softmax', name='l5')(l4)\n",
    "\n",
    "model = Model(inputs=l0, outputs=l7)\n",
    "model.summary()"
   ]
  },
  {
   "cell_type": "code",
   "execution_count": 31,
   "id": "26d85979",
   "metadata": {
    "scrolled": true
   },
   "outputs": [
    {
     "name": "stdout",
     "output_type": "stream",
     "text": [
      "Train on 10000 samples, validate on 2432 samples\n",
      "Epoch 1/100\n",
      "10000/10000 [==============================] - 24s 2ms/step - loss: 104.5159 - mean_absolute_percentage_error: 104.5159 - val_loss: 385.4341 - val_mean_absolute_percentage_error: 385.4341\n",
      "Epoch 2/100\n",
      "10000/10000 [==============================] - 24s 2ms/step - loss: 78.9518 - mean_absolute_percentage_error: 78.9518 - val_loss: 303.7185 - val_mean_absolute_percentage_error: 303.7185\n",
      "Epoch 3/100\n",
      "10000/10000 [==============================] - 26s 3ms/step - loss: 74.3463 - mean_absolute_percentage_error: 74.3463 - val_loss: 137.2455 - val_mean_absolute_percentage_error: 137.2455\n",
      "Epoch 4/100\n",
      "10000/10000 [==============================] - 25s 3ms/step - loss: 73.4683 - mean_absolute_percentage_error: 73.4683 - val_loss: 114.4510 - val_mean_absolute_percentage_error: 114.4510\n",
      "Epoch 5/100\n",
      "10000/10000 [==============================] - 26s 3ms/step - loss: 70.4594 - mean_absolute_percentage_error: 70.4594 - val_loss: 114.5148 - val_mean_absolute_percentage_error: 114.5148\n",
      "Epoch 6/100\n",
      "10000/10000 [==============================] - 28s 3ms/step - loss: 69.1207 - mean_absolute_percentage_error: 69.1207 - val_loss: 106.7574 - val_mean_absolute_percentage_error: 106.7574\n",
      "Epoch 7/100\n",
      "10000/10000 [==============================] - 27s 3ms/step - loss: 67.8991 - mean_absolute_percentage_error: 67.8991 - val_loss: 112.8792 - val_mean_absolute_percentage_error: 112.8792\n",
      "Epoch 8/100\n",
      "10000/10000 [==============================] - 27s 3ms/step - loss: 76.9013 - mean_absolute_percentage_error: 76.9013 - val_loss: 90.4372 - val_mean_absolute_percentage_error: 90.4372\n",
      "Epoch 9/100\n",
      "10000/10000 [==============================] - 28s 3ms/step - loss: 65.2456 - mean_absolute_percentage_error: 65.2456 - val_loss: 94.0112 - val_mean_absolute_percentage_error: 94.0112\n",
      "Epoch 10/100\n",
      "10000/10000 [==============================] - 27s 3ms/step - loss: 63.9185 - mean_absolute_percentage_error: 63.9185 - val_loss: 99.3929 - val_mean_absolute_percentage_error: 99.3929\n",
      "Epoch 11/100\n",
      "10000/10000 [==============================] - 27s 3ms/step - loss: 69.8188 - mean_absolute_percentage_error: 69.8188 - val_loss: 89.4493 - val_mean_absolute_percentage_error: 89.4493\n",
      "Epoch 12/100\n",
      "10000/10000 [==============================] - 28s 3ms/step - loss: 64.9916 - mean_absolute_percentage_error: 64.9916 - val_loss: 88.9445 - val_mean_absolute_percentage_error: 88.9445\n",
      "Epoch 13/100\n",
      "10000/10000 [==============================] - 27s 3ms/step - loss: 62.8090 - mean_absolute_percentage_error: 62.8090 - val_loss: 89.0810 - val_mean_absolute_percentage_error: 89.0810\n",
      "Epoch 14/100\n",
      "10000/10000 [==============================] - 27s 3ms/step - loss: 64.0659 - mean_absolute_percentage_error: 64.0659 - val_loss: 89.5051 - val_mean_absolute_percentage_error: 89.5051\n",
      "Epoch 15/100\n",
      "10000/10000 [==============================] - 28s 3ms/step - loss: 63.3641 - mean_absolute_percentage_error: 63.3641 - val_loss: 90.0389 - val_mean_absolute_percentage_error: 90.0389\n",
      "Epoch 16/100\n",
      "10000/10000 [==============================] - 28s 3ms/step - loss: 61.8619 - mean_absolute_percentage_error: 61.8619 - val_loss: 85.3615 - val_mean_absolute_percentage_error: 85.3615\n",
      "Epoch 17/100\n",
      "10000/10000 [==============================] - 27s 3ms/step - loss: 59.7105 - mean_absolute_percentage_error: 59.7105 - val_loss: 85.0163 - val_mean_absolute_percentage_error: 85.0163\n",
      "Epoch 18/100\n",
      "10000/10000 [==============================] - 28s 3ms/step - loss: 58.7419 - mean_absolute_percentage_error: 58.7419 - val_loss: 86.4185 - val_mean_absolute_percentage_error: 86.4185\n",
      "Epoch 19/100\n",
      "10000/10000 [==============================] - 27s 3ms/step - loss: 57.7188 - mean_absolute_percentage_error: 57.7188 - val_loss: 86.5381 - val_mean_absolute_percentage_error: 86.5381\n",
      "Epoch 20/100\n",
      "10000/10000 [==============================] - 27s 3ms/step - loss: 59.5413 - mean_absolute_percentage_error: 59.5413 - val_loss: 86.1277 - val_mean_absolute_percentage_error: 86.1277\n",
      "Epoch 21/100\n",
      "10000/10000 [==============================] - 27s 3ms/step - loss: 64.8880 - mean_absolute_percentage_error: 64.8880 - val_loss: 84.1440 - val_mean_absolute_percentage_error: 84.1441\n",
      "Epoch 22/100\n",
      "10000/10000 [==============================] - 25s 3ms/step - loss: 58.3630 - mean_absolute_percentage_error: 58.3630 - val_loss: 83.5813 - val_mean_absolute_percentage_error: 83.5813\n",
      "Epoch 23/100\n",
      "10000/10000 [==============================] - 27s 3ms/step - loss: 57.4323 - mean_absolute_percentage_error: 57.4323 - val_loss: 82.2742 - val_mean_absolute_percentage_error: 82.2742\n",
      "Epoch 24/100\n",
      "10000/10000 [==============================] - 26s 3ms/step - loss: 54.8817 - mean_absolute_percentage_error: 54.8817 - val_loss: 81.4416 - val_mean_absolute_percentage_error: 81.4416\n",
      "Epoch 25/100\n",
      "10000/10000 [==============================] - 27s 3ms/step - loss: 54.5007 - mean_absolute_percentage_error: 54.5007 - val_loss: 79.6333 - val_mean_absolute_percentage_error: 79.6333\n",
      "Epoch 26/100\n",
      "10000/10000 [==============================] - 26s 3ms/step - loss: 53.6550 - mean_absolute_percentage_error: 53.6550 - val_loss: 78.6249 - val_mean_absolute_percentage_error: 78.6249\n",
      "Epoch 27/100\n",
      "10000/10000 [==============================] - 26s 3ms/step - loss: 58.2634 - mean_absolute_percentage_error: 58.2634 - val_loss: 77.9078 - val_mean_absolute_percentage_error: 77.9078\n",
      "Epoch 28/100\n",
      "10000/10000 [==============================] - 25s 3ms/step - loss: 53.1149 - mean_absolute_percentage_error: 53.1149 - val_loss: 76.5969 - val_mean_absolute_percentage_error: 76.5969\n",
      "Epoch 29/100\n",
      "10000/10000 [==============================] - 26s 3ms/step - loss: 52.2709 - mean_absolute_percentage_error: 52.2709 - val_loss: 76.6463 - val_mean_absolute_percentage_error: 76.6463\n",
      "Epoch 30/100\n",
      "10000/10000 [==============================] - 25s 3ms/step - loss: 52.8920 - mean_absolute_percentage_error: 52.8920 - val_loss: 75.1517 - val_mean_absolute_percentage_error: 75.1517\n",
      "Epoch 31/100\n",
      "10000/10000 [==============================] - 27s 3ms/step - loss: 51.5780 - mean_absolute_percentage_error: 51.5780 - val_loss: 74.3065 - val_mean_absolute_percentage_error: 74.3065\n",
      "Epoch 32/100\n",
      "10000/10000 [==============================] - 29s 3ms/step - loss: 51.9545 - mean_absolute_percentage_error: 51.9545 - val_loss: 75.3536 - val_mean_absolute_percentage_error: 75.3536\n",
      "Epoch 33/100\n",
      "10000/10000 [==============================] - 27s 3ms/step - loss: 55.0400 - mean_absolute_percentage_error: 55.0400 - val_loss: 76.2105 - val_mean_absolute_percentage_error: 76.2105\n",
      "Epoch 34/100\n",
      "10000/10000 [==============================] - 27s 3ms/step - loss: 53.9190 - mean_absolute_percentage_error: 53.9190 - val_loss: 75.7468 - val_mean_absolute_percentage_error: 75.7468\n",
      "Epoch 35/100\n",
      "10000/10000 [==============================] - 25s 3ms/step - loss: 53.7921 - mean_absolute_percentage_error: 53.7921 - val_loss: 75.0094 - val_mean_absolute_percentage_error: 75.0094\n",
      "Epoch 36/100\n",
      "10000/10000 [==============================] - 25s 3ms/step - loss: 55.8265 - mean_absolute_percentage_error: 55.8265 - val_loss: 75.0196 - val_mean_absolute_percentage_error: 75.0196\n",
      "Epoch 37/100\n",
      "10000/10000 [==============================] - 25s 3ms/step - loss: 50.7135 - mean_absolute_percentage_error: 50.7135 - val_loss: 72.5586 - val_mean_absolute_percentage_error: 72.5586\n",
      "Epoch 38/100\n",
      "10000/10000 [==============================] - 25s 2ms/step - loss: 56.1436 - mean_absolute_percentage_error: 56.1436 - val_loss: 78.9768 - val_mean_absolute_percentage_error: 78.9768\n",
      "Epoch 39/100\n",
      "10000/10000 [==============================] - 25s 3ms/step - loss: 55.0128 - mean_absolute_percentage_error: 55.0128 - val_loss: 75.2703 - val_mean_absolute_percentage_error: 75.2703\n",
      "Epoch 40/100\n",
      "10000/10000 [==============================] - 26s 3ms/step - loss: 51.9988 - mean_absolute_percentage_error: 51.9988 - val_loss: 73.3373 - val_mean_absolute_percentage_error: 73.3373\n",
      "Epoch 41/100\n",
      "10000/10000 [==============================] - 26s 3ms/step - loss: 50.9558 - mean_absolute_percentage_error: 50.9558 - val_loss: 75.2025 - val_mean_absolute_percentage_error: 75.2025\n",
      "Epoch 42/100\n"
     ]
    },
    {
     "name": "stdout",
     "output_type": "stream",
     "text": [
      "10000/10000 [==============================] - 26s 3ms/step - loss: 50.9131 - mean_absolute_percentage_error: 50.9131 - val_loss: 74.1366 - val_mean_absolute_percentage_error: 74.1366\n",
      "Epoch 43/100\n",
      "10000/10000 [==============================] - 25s 3ms/step - loss: 52.9103 - mean_absolute_percentage_error: 52.9103 - val_loss: 75.0719 - val_mean_absolute_percentage_error: 75.0719\n",
      "Epoch 44/100\n",
      "10000/10000 [==============================] - 25s 3ms/step - loss: 49.6555 - mean_absolute_percentage_error: 49.6555 - val_loss: 71.8869 - val_mean_absolute_percentage_error: 71.8869\n",
      "Epoch 45/100\n",
      "10000/10000 [==============================] - 25s 3ms/step - loss: 48.7482 - mean_absolute_percentage_error: 48.7482 - val_loss: 70.6564 - val_mean_absolute_percentage_error: 70.6564\n",
      "Epoch 46/100\n",
      "10000/10000 [==============================] - 25s 2ms/step - loss: 51.0395 - mean_absolute_percentage_error: 51.0395 - val_loss: 70.9164 - val_mean_absolute_percentage_error: 70.9164\n",
      "Epoch 47/100\n",
      "10000/10000 [==============================] - 25s 3ms/step - loss: 48.6698 - mean_absolute_percentage_error: 48.6698 - val_loss: 68.8357 - val_mean_absolute_percentage_error: 68.8357\n",
      "Epoch 48/100\n",
      "10000/10000 [==============================] - 25s 3ms/step - loss: 48.0099 - mean_absolute_percentage_error: 48.0099 - val_loss: 69.7102 - val_mean_absolute_percentage_error: 69.7102\n",
      "Epoch 49/100\n",
      "10000/10000 [==============================] - 25s 3ms/step - loss: 47.3002 - mean_absolute_percentage_error: 47.3002 - val_loss: 70.1862 - val_mean_absolute_percentage_error: 70.1862\n",
      "Epoch 50/100\n",
      "10000/10000 [==============================] - 26s 3ms/step - loss: 47.8356 - mean_absolute_percentage_error: 47.8356 - val_loss: 68.1670 - val_mean_absolute_percentage_error: 68.1670\n",
      "Epoch 51/100\n",
      "10000/10000 [==============================] - 26s 3ms/step - loss: 49.4531 - mean_absolute_percentage_error: 49.4531 - val_loss: 69.2714 - val_mean_absolute_percentage_error: 69.2714\n",
      "Epoch 52/100\n",
      "10000/10000 [==============================] - 24s 2ms/step - loss: 50.4397 - mean_absolute_percentage_error: 50.4397 - val_loss: 68.9749 - val_mean_absolute_percentage_error: 68.9749\n",
      "Epoch 53/100\n",
      "10000/10000 [==============================] - 25s 3ms/step - loss: 47.2052 - mean_absolute_percentage_error: 47.2052 - val_loss: 69.1543 - val_mean_absolute_percentage_error: 69.1544\n",
      "Epoch 54/100\n",
      "10000/10000 [==============================] - 26s 3ms/step - loss: 46.6707 - mean_absolute_percentage_error: 46.6707 - val_loss: 66.2583 - val_mean_absolute_percentage_error: 66.2583\n",
      "Epoch 55/100\n",
      "10000/10000 [==============================] - 26s 3ms/step - loss: 46.8942 - mean_absolute_percentage_error: 46.8942 - val_loss: 68.3749 - val_mean_absolute_percentage_error: 68.3749\n",
      "Epoch 56/100\n",
      "10000/10000 [==============================] - 27s 3ms/step - loss: 45.5144 - mean_absolute_percentage_error: 45.5144 - val_loss: 65.1571 - val_mean_absolute_percentage_error: 65.1571\n",
      "Epoch 57/100\n",
      "10000/10000 [==============================] - 26s 3ms/step - loss: 46.8277 - mean_absolute_percentage_error: 46.8277 - val_loss: 66.1069 - val_mean_absolute_percentage_error: 66.1069\n",
      "Epoch 58/100\n",
      "10000/10000 [==============================] - 26s 3ms/step - loss: 45.2665 - mean_absolute_percentage_error: 45.2665 - val_loss: 62.9876 - val_mean_absolute_percentage_error: 62.9876\n",
      "Epoch 59/100\n",
      "10000/10000 [==============================] - 26s 3ms/step - loss: 46.6105 - mean_absolute_percentage_error: 46.6105 - val_loss: 67.8066 - val_mean_absolute_percentage_error: 67.8065\n",
      "Epoch 60/100\n",
      "10000/10000 [==============================] - 26s 3ms/step - loss: 45.6393 - mean_absolute_percentage_error: 45.6393 - val_loss: 64.7744 - val_mean_absolute_percentage_error: 64.7744\n",
      "Epoch 61/100\n",
      "10000/10000 [==============================] - 26s 3ms/step - loss: 44.8130 - mean_absolute_percentage_error: 44.8130 - val_loss: 64.1213 - val_mean_absolute_percentage_error: 64.1213\n",
      "Epoch 62/100\n",
      "10000/10000 [==============================] - 26s 3ms/step - loss: 45.6554 - mean_absolute_percentage_error: 45.6554 - val_loss: 62.2350 - val_mean_absolute_percentage_error: 62.2350\n",
      "Epoch 63/100\n",
      "10000/10000 [==============================] - 26s 3ms/step - loss: 47.9051 - mean_absolute_percentage_error: 47.9051 - val_loss: 74.5641 - val_mean_absolute_percentage_error: 74.5641\n",
      "Epoch 64/100\n",
      "10000/10000 [==============================] - 26s 3ms/step - loss: 48.3373 - mean_absolute_percentage_error: 48.3373 - val_loss: 58.7628 - val_mean_absolute_percentage_error: 58.7628\n",
      "Epoch 65/100\n",
      "10000/10000 [==============================] - 26s 3ms/step - loss: 41.8124 - mean_absolute_percentage_error: 41.8124 - val_loss: 59.8860 - val_mean_absolute_percentage_error: 59.8860\n",
      "Epoch 66/100\n",
      "10000/10000 [==============================] - 27s 3ms/step - loss: 40.9225 - mean_absolute_percentage_error: 40.9225 - val_loss: 56.4671 - val_mean_absolute_percentage_error: 56.4671\n",
      "Epoch 67/100\n",
      "10000/10000 [==============================] - 24s 2ms/step - loss: 40.3263 - mean_absolute_percentage_error: 40.3263 - val_loss: 57.3903 - val_mean_absolute_percentage_error: 57.3903\n",
      "Epoch 68/100\n",
      "10000/10000 [==============================] - 24s 2ms/step - loss: 41.3559 - mean_absolute_percentage_error: 41.3559 - val_loss: 64.3766 - val_mean_absolute_percentage_error: 64.3766\n",
      "Epoch 69/100\n",
      "10000/10000 [==============================] - 24s 2ms/step - loss: 41.3481 - mean_absolute_percentage_error: 41.3481 - val_loss: 54.6540 - val_mean_absolute_percentage_error: 54.6540\n",
      "Epoch 70/100\n",
      "10000/10000 [==============================] - 24s 2ms/step - loss: 40.1118 - mean_absolute_percentage_error: 40.1118 - val_loss: 56.1830 - val_mean_absolute_percentage_error: 56.1830\n",
      "Epoch 71/100\n",
      "10000/10000 [==============================] - 24s 2ms/step - loss: 39.8325 - mean_absolute_percentage_error: 39.8325 - val_loss: 55.3118 - val_mean_absolute_percentage_error: 55.3118\n",
      "Epoch 72/100\n",
      "10000/10000 [==============================] - 24s 2ms/step - loss: 39.1938 - mean_absolute_percentage_error: 39.1938 - val_loss: 56.7208 - val_mean_absolute_percentage_error: 56.7208\n",
      "Epoch 73/100\n",
      "10000/10000 [==============================] - 24s 2ms/step - loss: 40.1862 - mean_absolute_percentage_error: 40.1862 - val_loss: 61.7298 - val_mean_absolute_percentage_error: 61.7298\n",
      "Epoch 74/100\n",
      "10000/10000 [==============================] - 25s 3ms/step - loss: 39.8538 - mean_absolute_percentage_error: 39.8538 - val_loss: 57.8633 - val_mean_absolute_percentage_error: 57.8633\n",
      "Epoch 75/100\n",
      "10000/10000 [==============================] - 25s 2ms/step - loss: 38.5899 - mean_absolute_percentage_error: 38.5899 - val_loss: 56.0178 - val_mean_absolute_percentage_error: 56.0178\n",
      "Epoch 76/100\n",
      "10000/10000 [==============================] - 27s 3ms/step - loss: 38.9843 - mean_absolute_percentage_error: 38.9843 - val_loss: 52.6550 - val_mean_absolute_percentage_error: 52.6550\n",
      "Epoch 77/100\n",
      "10000/10000 [==============================] - 26s 3ms/step - loss: 39.0097 - mean_absolute_percentage_error: 39.0097 - val_loss: 58.5655 - val_mean_absolute_percentage_error: 58.5655\n",
      "Epoch 78/100\n",
      "10000/10000 [==============================] - 25s 3ms/step - loss: 39.7990 - mean_absolute_percentage_error: 39.7990 - val_loss: 58.1819 - val_mean_absolute_percentage_error: 58.1819\n",
      "Epoch 79/100\n",
      "10000/10000 [==============================] - 25s 3ms/step - loss: 43.9105 - mean_absolute_percentage_error: 43.9105 - val_loss: 60.3651 - val_mean_absolute_percentage_error: 60.3651\n",
      "Epoch 80/100\n",
      "10000/10000 [==============================] - 24s 2ms/step - loss: 41.2675 - mean_absolute_percentage_error: 41.2675 - val_loss: 56.7132 - val_mean_absolute_percentage_error: 56.7132\n",
      "Epoch 81/100\n",
      "10000/10000 [==============================] - 24s 2ms/step - loss: 38.4301 - mean_absolute_percentage_error: 38.4301 - val_loss: 56.0073 - val_mean_absolute_percentage_error: 56.0073\n",
      "Epoch 82/100\n",
      "10000/10000 [==============================] - 24s 2ms/step - loss: 40.2939 - mean_absolute_percentage_error: 40.2939 - val_loss: 57.4708 - val_mean_absolute_percentage_error: 57.4708\n",
      "Epoch 83/100\n",
      "10000/10000 [==============================] - 24s 2ms/step - loss: 40.2131 - mean_absolute_percentage_error: 40.2131 - val_loss: 55.8317 - val_mean_absolute_percentage_error: 55.8317\n"
     ]
    },
    {
     "name": "stdout",
     "output_type": "stream",
     "text": [
      "Epoch 84/100\n",
      "10000/10000 [==============================] - 24s 2ms/step - loss: 39.8814 - mean_absolute_percentage_error: 39.8814 - val_loss: 55.5827 - val_mean_absolute_percentage_error: 55.5827\n",
      "Epoch 85/100\n",
      "10000/10000 [==============================] - 24s 2ms/step - loss: 38.2763 - mean_absolute_percentage_error: 38.2763 - val_loss: 57.1112 - val_mean_absolute_percentage_error: 57.1112\n",
      "Epoch 86/100\n",
      "10000/10000 [==============================] - 24s 2ms/step - loss: 37.7320 - mean_absolute_percentage_error: 37.7320 - val_loss: 54.1526 - val_mean_absolute_percentage_error: 54.1526\n",
      "Epoch 87/100\n",
      "10000/10000 [==============================] - 24s 2ms/step - loss: 37.5290 - mean_absolute_percentage_error: 37.5290 - val_loss: 53.8287 - val_mean_absolute_percentage_error: 53.8287\n",
      "Epoch 88/100\n",
      "10000/10000 [==============================] - 24s 2ms/step - loss: 37.8461 - mean_absolute_percentage_error: 37.8461 - val_loss: 52.5945 - val_mean_absolute_percentage_error: 52.5945\n",
      "Epoch 89/100\n",
      "10000/10000 [==============================] - 27s 3ms/step - loss: 37.3965 - mean_absolute_percentage_error: 37.3965 - val_loss: 53.7678 - val_mean_absolute_percentage_error: 53.7678\n",
      "Epoch 90/100\n",
      "10000/10000 [==============================] - 25s 2ms/step - loss: 37.5112 - mean_absolute_percentage_error: 37.5112 - val_loss: 51.9731 - val_mean_absolute_percentage_error: 51.9731\n",
      "Epoch 91/100\n",
      "10000/10000 [==============================] - 25s 2ms/step - loss: 37.2983 - mean_absolute_percentage_error: 37.2983 - val_loss: 59.6449 - val_mean_absolute_percentage_error: 59.6449\n",
      "Epoch 92/100\n",
      "10000/10000 [==============================] - 26s 3ms/step - loss: 36.7294 - mean_absolute_percentage_error: 36.7294 - val_loss: 57.6006 - val_mean_absolute_percentage_error: 57.6006\n",
      "Epoch 93/100\n",
      "10000/10000 [==============================] - 24s 2ms/step - loss: 37.3667 - mean_absolute_percentage_error: 37.3667 - val_loss: 52.0488 - val_mean_absolute_percentage_error: 52.0488\n",
      "Epoch 94/100\n",
      "10000/10000 [==============================] - 25s 2ms/step - loss: 36.7933 - mean_absolute_percentage_error: 36.7933 - val_loss: 52.6362 - val_mean_absolute_percentage_error: 52.6362\n",
      "Epoch 95/100\n",
      "10000/10000 [==============================] - 24s 2ms/step - loss: 36.9000 - mean_absolute_percentage_error: 36.9000 - val_loss: 59.5159 - val_mean_absolute_percentage_error: 59.5159\n",
      "Epoch 96/100\n",
      "10000/10000 [==============================] - 25s 2ms/step - loss: 37.0564 - mean_absolute_percentage_error: 37.0564 - val_loss: 52.4878 - val_mean_absolute_percentage_error: 52.4878\n",
      "Epoch 97/100\n",
      "10000/10000 [==============================] - 25s 2ms/step - loss: 37.1809 - mean_absolute_percentage_error: 37.1809 - val_loss: 53.2768 - val_mean_absolute_percentage_error: 53.2768\n",
      "Epoch 98/100\n",
      "10000/10000 [==============================] - 25s 3ms/step - loss: 40.0715 - mean_absolute_percentage_error: 40.0715 - val_loss: 59.6930 - val_mean_absolute_percentage_error: 59.6930\n",
      "Epoch 99/100\n",
      "10000/10000 [==============================] - 25s 2ms/step - loss: 36.4857 - mean_absolute_percentage_error: 36.4857 - val_loss: 57.0141 - val_mean_absolute_percentage_error: 57.0141\n",
      "Epoch 100/100\n",
      "10000/10000 [==============================] - 25s 3ms/step - loss: 35.9077 - mean_absolute_percentage_error: 35.9077 - val_loss: 57.2249 - val_mean_absolute_percentage_error: 57.2249\n"
     ]
    }
   ],
   "source": [
    "batch_size = 1024\n",
    "n_epoch = 100\n",
    "\n",
    "#model.compile(loss='categorical_crossentropy', optimizer=RMSprop(), metrics=['accuracy'])\n",
    "model.compile(loss='mean_absolute_percentage_error', optimizer='RMSprop', metrics=['mean_absolute_percentage_error'])\n",
    "history = model.fit(X_train, Y_train, batch_size=batch_size, epochs=n_epoch, verbose=1, validation_data=(X_test, Y_test))"
   ]
  },
  {
   "cell_type": "code",
   "execution_count": null,
   "id": "d8ea2c94",
   "metadata": {},
   "outputs": [],
   "source": [
    "temp = X_train[0]\n",
    "\n",
    "print(temp.shape)\n",
    "\n",
    "temp = np.swapaxes(temp, 1, 2)\n",
    "\n",
    "print(temp.shape)\n",
    "\n",
    "temp = np.swapaxes(temp, 0, 1)\n",
    "\n",
    "print(temp.shape)"
   ]
  },
  {
   "cell_type": "code",
   "execution_count": null,
   "id": "c86de18b",
   "metadata": {},
   "outputs": [],
   "source": [
    "for band in temp:\n",
    "    \n",
    "    print(np.amin(band))\n",
    "    print(np.amax(band))\n",
    "    print(\"--------------\")\n",
    "\n",
    "tempR = temp.reshape(7, 250000).astype('float64')\n",
    "    \n",
    "bins = []\n",
    "step = 0.01\n",
    "\n",
    "for i in range(0, 55):\n",
    "    bins.append(step * i * 1.0)\n",
    "\n",
    "plt.hist(tempR[0])  # arguments are passed to np.histogram\n",
    "plt.title(\"X_train[0][0] - Histogram\")\n",
    "\n",
    "plt.show()"
   ]
  },
  {
   "cell_type": "code",
   "execution_count": null,
   "id": "37437575",
   "metadata": {},
   "outputs": [],
   "source": [
    "temp = Y_train[0]\n",
    "\n",
    "temp = temp.reshape(250000).astype('float64')\n",
    "\n",
    "print(np.amin(temp))\n",
    "print(np.amax(temp))\n",
    "\n",
    "bins = []\n",
    "step = 0.02\n",
    "\n",
    "for i in range(0, 45):\n",
    "    bins.append(step * i * 1.0)\n",
    "\n",
    "plt.hist(temp, bins=bins)  # arguments are passed to np.histogram\n",
    "plt.title(\"Y_train[0] - Histogram\")\n",
    "\n",
    "plt.show()"
   ]
  },
  {
   "cell_type": "code",
   "execution_count": null,
   "id": "3799942b",
   "metadata": {},
   "outputs": [],
   "source": [
    "# Search Min diff\n",
    "\n",
    "temp = Y_train[0]\n",
    "temp = temp.reshape(250000).astype('float64')\n",
    "\n",
    "minDiff = np.amax(temp)\n",
    "\n",
    "for i in range(1, len(temp)):\n",
    "    \n",
    "    tempDiff = abs(temp[i - 1] - temp[i])\n",
    "    \n",
    "    if tempDiff != 0 and tempDiff < minDiff :\n",
    "        minDiff = tempDiff\n",
    "        \n",
    "print(minDiff)"
   ]
  },
  {
   "cell_type": "code",
   "execution_count": null,
   "id": "c1687996",
   "metadata": {},
   "outputs": [],
   "source": [
    "temp = Y_train\n",
    "temp = temp.reshape(150000000).astype('float64')\n",
    "\n",
    "print(np.amax(temp))\n",
    "\n",
    "bins = []\n",
    "step = 0.02\n",
    "\n",
    "for i in range(0, 45):\n",
    "    bins.append(step * i * 1.0)\n",
    "\n",
    "plt.hist(temp, bins=bins)  # arguments are passed to np.histogram\n",
    "plt.title(\"Y_train[0] - Histogram\")\n",
    "\n",
    "plt.show()"
   ]
  },
  {
   "cell_type": "code",
   "execution_count": null,
   "id": "c63deb60",
   "metadata": {},
   "outputs": [],
   "source": [
    "print(temp[1])\n",
    "print(type(temp[0]))"
   ]
  },
  {
   "cell_type": "code",
   "execution_count": null,
   "id": "8dce009f",
   "metadata": {},
   "outputs": [],
   "source": [
    "print(np.amax(Y_train))\n",
    "print(np.amin(Y_train))"
   ]
  },
  {
   "cell_type": "code",
   "execution_count": null,
   "id": "c0ac9c9e",
   "metadata": {},
   "outputs": [],
   "source": [
    "Y_train = Y_train.round(7)"
   ]
  },
  {
   "cell_type": "code",
   "execution_count": 12,
   "id": "36d2ab16",
   "metadata": {},
   "outputs": [
    {
     "name": "stdout",
     "output_type": "stream",
     "text": [
      "6.7557664\n",
      "0.0\n"
     ]
    }
   ],
   "source": [
    "print(np.amax(Y_train))\n",
    "print(np.amin(Y_train))"
   ]
  },
  {
   "cell_type": "code",
   "execution_count": 32,
   "id": "3c5b241c",
   "metadata": {},
   "outputs": [
    {
     "name": "stdout",
     "output_type": "stream",
     "text": [
      "Test score: 57.22490792525442\n",
      "Test accuracy: 57.22489547729492\n"
     ]
    },
    {
     "data": {
      "image/png": "[encoded data removed]",
      "text/plain": [
       "<Figure size 432x288 with 1 Axes>"
      ]
     },
     "metadata": {
      "needs_background": "light"
     },
     "output_type": "display_data"
    }
   ],
   "source": [
    "plt.plot(history.history['loss'], label='Training')\n",
    "plt.plot(history.history['val_loss'], label='Testing')\n",
    "plt.legend()\n",
    "plt.grid()\n",
    "\n",
    "score = model.evaluate(X_test, Y_test, verbose=0)\n",
    "print('Test score:', score[0])\n",
    "\n",
    "print('Test accuracy:', score[1])"
   ]
  },
  {
   "cell_type": "code",
   "execution_count": 34,
   "id": "460df707",
   "metadata": {},
   "outputs": [
    {
     "name": "stdout",
     "output_type": "stream",
     "text": [
      "Train on 10000 samples, validate on 2432 samples\n",
      "Epoch 101/110\n",
      "10000/10000 [==============================] - 25s 3ms/step - loss: 38.0298 - mean_absolute_percentage_error: 38.0298 - val_loss: 50.6503 - val_mean_absolute_percentage_error: 50.6503\n",
      "Epoch 102/110\n",
      "10000/10000 [==============================] - 25s 2ms/step - loss: 35.8414 - mean_absolute_percentage_error: 35.8414 - val_loss: 53.6765 - val_mean_absolute_percentage_error: 53.6765\n",
      "Epoch 103/110\n",
      "10000/10000 [==============================] - 25s 3ms/step - loss: 36.3499 - mean_absolute_percentage_error: 36.3499 - val_loss: 53.0309 - val_mean_absolute_percentage_error: 53.0309\n",
      "Epoch 104/110\n",
      "10000/10000 [==============================] - 25s 3ms/step - loss: 37.9667 - mean_absolute_percentage_error: 37.9667 - val_loss: 55.4580 - val_mean_absolute_percentage_error: 55.4580\n",
      "Epoch 105/110\n",
      "10000/10000 [==============================] - 26s 3ms/step - loss: 35.7073 - mean_absolute_percentage_error: 35.7073 - val_loss: 53.2366 - val_mean_absolute_percentage_error: 53.2366\n",
      "Epoch 106/110\n",
      "10000/10000 [==============================] - 24s 2ms/step - loss: 35.9562 - mean_absolute_percentage_error: 35.9562 - val_loss: 56.7057 - val_mean_absolute_percentage_error: 56.7057\n",
      "Epoch 107/110\n",
      "10000/10000 [==============================] - 24s 2ms/step - loss: 35.5280 - mean_absolute_percentage_error: 35.5280 - val_loss: 53.6135 - val_mean_absolute_percentage_error: 53.6135\n",
      "Epoch 108/110\n",
      "10000/10000 [==============================] - 24s 2ms/step - loss: 35.7697 - mean_absolute_percentage_error: 35.7697 - val_loss: 50.6068 - val_mean_absolute_percentage_error: 50.6068\n",
      "Epoch 109/110\n",
      "10000/10000 [==============================] - 24s 2ms/step - loss: 35.5120 - mean_absolute_percentage_error: 35.5120 - val_loss: 52.6452 - val_mean_absolute_percentage_error: 52.6452\n",
      "Epoch 110/110\n",
      "10000/10000 [==============================] - 25s 2ms/step - loss: 35.5944 - mean_absolute_percentage_error: 35.5944 - val_loss: 56.0147 - val_mean_absolute_percentage_error: 56.0147\n"
     ]
    }
   ],
   "source": [
    "history = model.fit(X_train, Y_train, batch_size=batch_size, epochs=n_epoch + 10, verbose=1, validation_data=(X_test, Y_test), initial_epoch=100)"
   ]
  },
  {
   "cell_type": "code",
   "execution_count": 50,
   "id": "ce9f45f4",
   "metadata": {},
   "outputs": [
    {
     "name": "stdout",
     "output_type": "stream",
     "text": [
      "True\n"
     ]
    }
   ],
   "source": [
    "p = getIndicesPermutation(folderStart, '*.npz')\n",
    "\n",
    "#for index in p:\n",
    "#    print(index)\n",
    "    \n",
    "ok = True\n",
    "    \n",
    "for i in range(12432):\n",
    "    \n",
    "    ok = ok and (i in p)\n",
    "    \n",
    "print(ok)"
   ]
  },
  {
   "cell_type": "code",
   "execution_count": null,
   "id": "ed8c3407",
   "metadata": {},
   "outputs": [],
   "source": []
  },
  {
   "cell_type": "code",
   "execution_count": null,
   "id": "db72bc08",
   "metadata": {},
   "outputs": [],
   "source": []
  },
  {
   "cell_type": "code",
   "execution_count": null,
   "id": "65d90c8b",
   "metadata": {},
   "outputs": [],
   "source": []
  },
  {
   "cell_type": "code",
   "execution_count": null,
   "id": "1dc51f77",
   "metadata": {},
   "outputs": [],
   "source": []
  }
 ],
 "metadata": {
  "kernelspec": {
   "display_name": "Python 3",
   "language": "python",
   "name": "python3"
  },
  "language_info": {
   "codemirror_mode": {
    "name": "ipython",
    "version": 3
   },
   "file_extension": ".py",
   "mimetype": "text/x-python",
   "name": "python",
   "nbconvert_exporter": "python",
   "pygments_lexer": "ipython3",
   "version": "3.6.13"
  }
 },
 "nbformat": 4,
 "nbformat_minor": 5
}
