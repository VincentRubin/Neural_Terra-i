{
 "cells": [
  {
   "cell_type": "code",
   "execution_count": 1,
   "id": "b63deb32",
   "metadata": {},
   "outputs": [
    {
     "name": "stderr",
     "output_type": "stream",
     "text": [
      "Using TensorFlow backend.\n",
      "C:\\Users\\Vincent\\anaconda3\\envs\\python36_\\lib\\site-packages\\tensorflow\\python\\framework\\dtypes.py:516: FutureWarning: Passing (type, 1) or '1type' as a synonym of type is deprecated; in a future version of numpy, it will be understood as (type, (1,)) / '(1,)type'.\n",
      "  _np_qint8 = np.dtype([(\"qint8\", np.int8, 1)])\n",
      "C:\\Users\\Vincent\\anaconda3\\envs\\python36_\\lib\\site-packages\\tensorflow\\python\\framework\\dtypes.py:517: FutureWarning: Passing (type, 1) or '1type' as a synonym of type is deprecated; in a future version of numpy, it will be understood as (type, (1,)) / '(1,)type'.\n",
      "  _np_quint8 = np.dtype([(\"quint8\", np.uint8, 1)])\n",
      "C:\\Users\\Vincent\\anaconda3\\envs\\python36_\\lib\\site-packages\\tensorflow\\python\\framework\\dtypes.py:518: FutureWarning: Passing (type, 1) or '1type' as a synonym of type is deprecated; in a future version of numpy, it will be understood as (type, (1,)) / '(1,)type'.\n",
      "  _np_qint16 = np.dtype([(\"qint16\", np.int16, 1)])\n",
      "C:\\Users\\Vincent\\anaconda3\\envs\\python36_\\lib\\site-packages\\tensorflow\\python\\framework\\dtypes.py:519: FutureWarning: Passing (type, 1) or '1type' as a synonym of type is deprecated; in a future version of numpy, it will be understood as (type, (1,)) / '(1,)type'.\n",
      "  _np_quint16 = np.dtype([(\"quint16\", np.uint16, 1)])\n",
      "C:\\Users\\Vincent\\anaconda3\\envs\\python36_\\lib\\site-packages\\tensorflow\\python\\framework\\dtypes.py:520: FutureWarning: Passing (type, 1) or '1type' as a synonym of type is deprecated; in a future version of numpy, it will be understood as (type, (1,)) / '(1,)type'.\n",
      "  _np_qint32 = np.dtype([(\"qint32\", np.int32, 1)])\n",
      "C:\\Users\\Vincent\\anaconda3\\envs\\python36_\\lib\\site-packages\\tensorflow\\python\\framework\\dtypes.py:525: FutureWarning: Passing (type, 1) or '1type' as a synonym of type is deprecated; in a future version of numpy, it will be understood as (type, (1,)) / '(1,)type'.\n",
      "  np_resource = np.dtype([(\"resource\", np.ubyte, 1)])\n",
      "C:\\Users\\Vincent\\anaconda3\\envs\\python36_\\lib\\site-packages\\tensorboard\\compat\\tensorflow_stub\\dtypes.py:541: FutureWarning: Passing (type, 1) or '1type' as a synonym of type is deprecated; in a future version of numpy, it will be understood as (type, (1,)) / '(1,)type'.\n",
      "  _np_qint8 = np.dtype([(\"qint8\", np.int8, 1)])\n",
      "C:\\Users\\Vincent\\anaconda3\\envs\\python36_\\lib\\site-packages\\tensorboard\\compat\\tensorflow_stub\\dtypes.py:542: FutureWarning: Passing (type, 1) or '1type' as a synonym of type is deprecated; in a future version of numpy, it will be understood as (type, (1,)) / '(1,)type'.\n",
      "  _np_quint8 = np.dtype([(\"quint8\", np.uint8, 1)])\n",
      "C:\\Users\\Vincent\\anaconda3\\envs\\python36_\\lib\\site-packages\\tensorboard\\compat\\tensorflow_stub\\dtypes.py:543: FutureWarning: Passing (type, 1) or '1type' as a synonym of type is deprecated; in a future version of numpy, it will be understood as (type, (1,)) / '(1,)type'.\n",
      "  _np_qint16 = np.dtype([(\"qint16\", np.int16, 1)])\n",
      "C:\\Users\\Vincent\\anaconda3\\envs\\python36_\\lib\\site-packages\\tensorboard\\compat\\tensorflow_stub\\dtypes.py:544: FutureWarning: Passing (type, 1) or '1type' as a synonym of type is deprecated; in a future version of numpy, it will be understood as (type, (1,)) / '(1,)type'.\n",
      "  _np_quint16 = np.dtype([(\"quint16\", np.uint16, 1)])\n",
      "C:\\Users\\Vincent\\anaconda3\\envs\\python36_\\lib\\site-packages\\tensorboard\\compat\\tensorflow_stub\\dtypes.py:545: FutureWarning: Passing (type, 1) or '1type' as a synonym of type is deprecated; in a future version of numpy, it will be understood as (type, (1,)) / '(1,)type'.\n",
      "  _np_qint32 = np.dtype([(\"qint32\", np.int32, 1)])\n",
      "C:\\Users\\Vincent\\anaconda3\\envs\\python36_\\lib\\site-packages\\tensorboard\\compat\\tensorflow_stub\\dtypes.py:550: FutureWarning: Passing (type, 1) or '1type' as a synonym of type is deprecated; in a future version of numpy, it will be understood as (type, (1,)) / '(1,)type'.\n",
      "  np_resource = np.dtype([(\"resource\", np.ubyte, 1)])\n"
     ]
    }
   ],
   "source": [
    "import os\n",
    "currentPath = os.getcwd()\n",
    "\n",
    "import configparser\n",
    "settings = configparser.ConfigParser()\n",
    "settings._interpolation = configparser.ExtendedInterpolation()\n",
    "settings.read(currentPath + \"/config/main_config.ini\")\n",
    "\n",
    "output_path = settings.get('Main-Config', 'output_path') + \"/rotated_subset_ot\"\n",
    "\n",
    "subsetSizeX = int(settings.get('Main-Config', 'subsetSizeX'))\n",
    "subsetSizeY = int(settings.get('Main-Config', 'subsetSizeY'))\n",
    "marginX = int(settings.get('Main-Config', 'marginX'))\n",
    "marginY = int(settings.get('Main-Config', 'marginY'))\n",
    "\n",
    "import sys\n",
    "\n",
    "import numpy as np\n",
    "import glob\n",
    "\n",
    "import array\n",
    "import numpy as np\n",
    "import matplotlib.pyplot as plt\n",
    "\n",
    "from keras.datasets import mnist\n",
    "from keras.models import Model\n",
    "from keras.layers.core import Dense, Dropout, Flatten, Reshape\n",
    "#from tensorflow.keras.optimizers import RMSprop\n",
    "from keras.utils import np_utils\n",
    "from keras.layers.convolutional import Conv2D, MaxPooling2D, UpSampling2D, SeparableConv2D\n",
    "from keras.layers import Input, BatchNormalization\n",
    "from sklearn import metrics as me\n",
    "from scipy import stats\n",
    "from keras import models\n",
    "from keras import layers\n",
    "from sklearn.preprocessing import Normalizer\n",
    "\n",
    "import tensorflow as tf\n",
    "\n",
    "folderStart = \"K:/TM/data_output/subset_start_ot\"\n",
    "folderResult = \"K:/TM/data_output/subset_rotated_ot\""
   ]
  },
  {
   "cell_type": "code",
   "execution_count": 2,
   "id": "27c28074",
   "metadata": {},
   "outputs": [],
   "source": [
    "def getProductList(path, search, permutations):\n",
    "    \n",
    "    #products = []\n",
    "    products = []\n",
    "    \n",
    "    lbs_input_path = os.path.join(path, search)\n",
    "    files = glob.glob(lbs_input_path)\n",
    "\n",
    "    i = 0\n",
    "    \n",
    "    for index in permutations:\n",
    "        temp = np.load(files[index])\n",
    "        products.append(temp['arr_0'])\n",
    "        \n",
    "        if i < 5:\n",
    "            print(files[index])\n",
    "            i += 1\n",
    "        \n",
    "    return products\n",
    "    \n",
    "def getProductList2(path, search, permutations): #TEMP\n",
    "    \n",
    "    products = []\n",
    "    \n",
    "    folders = os.listdir(path)\n",
    "        \n",
    "    i = 0\n",
    "        \n",
    "    for index in permutations:\n",
    "        \n",
    "        if i < 5:\n",
    "            print(folders[index])\n",
    "            i += 1\n",
    "        \n",
    "        pathF = folders[index]\n",
    "        \n",
    "        for pathF2 in os.listdir(path + \"/\" + pathF):\n",
    "        \n",
    "            if search in pathF2:\n",
    "                temp = np.load(path + \"/\" + pathF + \"/\" + pathF2)\n",
    "                products.append(temp['arr_0'])\n",
    "            \n",
    "    return products\n",
    "\n",
    "def getIndicesPermutation(path, search):\n",
    "    \n",
    "    lbs_input_path = os.path.join(path, search)\n",
    "    files = glob.glob(lbs_input_path)\n",
    "    \n",
    "    p = np.random.permutation(len(files))\n",
    "    \n",
    "    return p\n",
    "\n",
    "def getProductFileList(path, search):\n",
    "    \n",
    "    lbs_input_path = os.path.join(path, search)\n",
    "    files = glob.glob(lbs_input_path)\n",
    "\n",
    "    return files"
   ]
  },
  {
   "cell_type": "code",
   "execution_count": 3,
   "id": "4ed3ea36",
   "metadata": {},
   "outputs": [
    {
     "name": "stdout",
     "output_type": "stream",
     "text": [
      "K:/TM/data_output/subset_start_ot\\S1A_IW_GRDH_1SDV_20210826T101413_20210826T101438_039399_04A776_7B55_484_134.npz\n",
      "K:/TM/data_output/subset_start_ot\\S1A_IW_GRDH_1SDV_20210826T101413_20210826T101438_039399_04A776_7B55_469_223.npz\n",
      "K:/TM/data_output/subset_start_ot\\S1A_IW_GRDH_1SDV_20210826T101413_20210826T101438_039399_04A776_7B55_462_125.npz\n",
      "K:/TM/data_output/subset_start_ot\\S1A_IW_GRDH_1SDV_20210826T101413_20210826T101438_039399_04A776_7B55_480_275.npz\n",
      "K:/TM/data_output/subset_start_ot\\S1A_IW_GRDH_1SDV_20210826T101413_20210826T101438_039399_04A776_7B55_465_216.npz\n",
      "S1A_IW_GRDH_1SDV_20210826T101413_20210826T101438_039399_04A776_7B55_484_134\n",
      "S1A_IW_GRDH_1SDV_20210826T101413_20210826T101438_039399_04A776_7B55_469_223\n",
      "S1A_IW_GRDH_1SDV_20210826T101413_20210826T101438_039399_04A776_7B55_462_125\n",
      "S1A_IW_GRDH_1SDV_20210826T101413_20210826T101438_039399_04A776_7B55_480_275\n",
      "S1A_IW_GRDH_1SDV_20210826T101413_20210826T101438_039399_04A776_7B55_465_216\n"
     ]
    }
   ],
   "source": [
    "p = getIndicesPermutation(folderStart, '*.npz')\n",
    "\n",
    "subsetStarts = getProductList(folderStart, '*.npz', p)\n",
    "Y = getProductList2(folderResult, 'VV.npz', p)"
   ]
  },
  {
   "cell_type": "code",
   "execution_count": null,
   "id": "785b25b7",
   "metadata": {},
   "outputs": [],
   "source": [
    "print(len(subsetStarts))\n",
    "print(len(Y))\n",
    "\n",
    "print(len(subsetStarts[0]))\n",
    "print(len(subsetStarts[0][0]))\n",
    "print(len(subsetStarts[0][0][0]))\n",
    "\n",
    "print(len(Y[0]))\n",
    "print(len(Y[0][0]))\n",
    "\n",
    "print(type(subsetStarts))\n",
    "print(type(Y))"
   ]
  },
  {
   "cell_type": "code",
   "execution_count": 4,
   "id": "abfb6c88",
   "metadata": {},
   "outputs": [],
   "source": [
    "X = []\n",
    "\n",
    "for x_ in subsetStarts:\n",
    "    \n",
    "    X.append(x_[1:])\n",
    "\n",
    "del subsetStarts"
   ]
  },
  {
   "cell_type": "code",
   "execution_count": null,
   "id": "8d0e009a",
   "metadata": {},
   "outputs": [],
   "source": [
    "print(len(X))\n",
    "print(len(X[0]))\n",
    "print(len(Y))"
   ]
  },
  {
   "cell_type": "code",
   "execution_count": 5,
   "id": "e46d6006",
   "metadata": {},
   "outputs": [
    {
     "name": "stdout",
     "output_type": "stream",
     "text": [
      "5000\n",
      "5000\n",
      "2000\n",
      "2000\n"
     ]
    }
   ],
   "source": [
    "X_trainL = X[:5000] \n",
    "Y_trainL = Y[:5000]\n",
    "\n",
    "X_testL = X[5000:7000]\n",
    "Y_testL = Y[5000:7000]\n",
    "\n",
    "del X\n",
    "del Y\n",
    "\n",
    "print(len(X_trainL))\n",
    "print(len(Y_trainL))\n",
    "print(len(X_testL))\n",
    "print(len(Y_testL))"
   ]
  },
  {
   "cell_type": "code",
   "execution_count": null,
   "id": "a5da990e",
   "metadata": {},
   "outputs": [],
   "source": [
    "print(len(X_train))\n",
    "print(len(X_train[0]))\n",
    "print(len(X_train[0][0]))\n",
    "print(len(X_train[0][0][0]))"
   ]
  },
  {
   "cell_type": "code",
   "execution_count": null,
   "id": "a495d7d7",
   "metadata": {},
   "outputs": [],
   "source": [
    "print(len(Y_train))\n",
    "print(len(Y_train[0]))\n",
    "print(len(Y_train[0][0]))\n",
    "print(len(Y_train[0][0][0]))"
   ]
  },
  {
   "cell_type": "code",
   "execution_count": 6,
   "id": "ce1a5abe",
   "metadata": {},
   "outputs": [
    {
     "name": "stdout",
     "output_type": "stream",
     "text": [
      "<class 'list'>\n",
      "<class 'list'>\n",
      "<class 'list'>\n",
      "<class 'list'>\n",
      "<class 'numpy.ndarray'>\n",
      "<class 'numpy.ndarray'>\n",
      "<class 'numpy.ndarray'>\n",
      "<class 'numpy.ndarray'>\n"
     ]
    }
   ],
   "source": [
    "print(type(X_trainL))\n",
    "print(type(Y_trainL))\n",
    "print(type(X_testL))\n",
    "print(type(Y_testL))\n",
    "\n",
    "X_train = np.array(X_trainL)\n",
    "del X_trainL\n",
    "\n",
    "Y_train = np.array(Y_trainL)\n",
    "del Y_trainL\n",
    "\n",
    "X_test = np.array(X_testL)\n",
    "del X_testL\n",
    "\n",
    "Y_test = np.array(Y_testL)\n",
    "del Y_testL\n",
    "\n",
    "print(type(X_train))\n",
    "print(type(Y_train))\n",
    "print(type(X_test))\n",
    "print(type(Y_test))"
   ]
  },
  {
   "cell_type": "code",
   "execution_count": 7,
   "id": "f1073062",
   "metadata": {},
   "outputs": [
    {
     "name": "stdout",
     "output_type": "stream",
     "text": [
      "(5000, 7, 50, 50)\n",
      "(5000, 50, 7, 50)\n",
      "(5000, 50, 50, 7)\n",
      "(2000, 50, 50, 7)\n"
     ]
    }
   ],
   "source": [
    "print(X_train.shape)\n",
    "\n",
    "X_train = np.swapaxes(X_train, 1, 2)\n",
    "\n",
    "print(X_train.shape)\n",
    "\n",
    "X_train = np.swapaxes(X_train, 2, 3)\n",
    "\n",
    "print(X_train.shape)\n",
    "\n",
    "X_test = np.swapaxes(X_test, 1, 2)\n",
    "X_test = np.swapaxes(X_test, 2, 3)\n",
    "\n",
    "print(X_test.shape)"
   ]
  },
  {
   "cell_type": "code",
   "execution_count": 8,
   "id": "0b372357",
   "metadata": {},
   "outputs": [],
   "source": [
    "Y_train = Y_train.reshape(len(Y_train), len(Y_train[0]), len(Y_train[0][0]), 1).astype('float32')\n",
    "Y_test = Y_test.reshape(len(Y_test), len(Y_test[0]), len(Y_test[0][0]), 1).astype('float32')"
   ]
  },
  {
   "cell_type": "code",
   "execution_count": null,
   "id": "ace846eb",
   "metadata": {},
   "outputs": [],
   "source": [
    "# OLD\n",
    "\n",
    "#l0 = Input(shape=(height, width, 9), name='l0')\n",
    "\n",
    "#l0 = Input(shape=(len(subsetResults[0]), len(subsetResults[0][0]), 7), name='l0')\n",
    "\n",
    "l0 = Input(shape=(50, 50, 7), name='l0')\n",
    "l0_n = BatchNormalization()(l0)\n",
    "\n",
    "l1 = Conv2D(7, (5, 5), padding='same', activation='relu', name='l1')(l0_n)\n",
    "l1_mp = MaxPooling2D((2, 2), name='l1_mp')(l1)\n",
    "\n",
    "l2 = Conv2D(7, (3, 3), padding='same', activation='relu', name='l2')(l1_mp)\n",
    "#l2_mp = MaxPooling2D((5, 5), name='l2_mp')(l2)\n",
    "\n",
    "#l22 = Conv2D(14, (5, 5), padding='same', activation='relu', name='l22')(l2)\n",
    "\n",
    "l3 = Conv2D(7, (5, 5), padding='same', activation='relu', name='l3')(l2)\n",
    "l3_us = UpSampling2D((2, 2))(l3)\n",
    "\n",
    "l4 = Conv2D(1, (5, 5), padding='same', activation='relu', name='l4')(l3_us)\n",
    "l4_us = UpSampling2D((2, 2))(l4)\n",
    "\n",
    "l45 = Conv2D(1, (3, 3), padding='same', activation='relu', name='l45')(l4_us)\n",
    "l45_mp = MaxPooling2D(pool_size=(2, 2), name='l45_mp')(l45)\n",
    "\n",
    "l5 = Conv2D(1, (5, 5), padding='same', activation='relu', name='l5')(l45_mp)\n",
    "\n",
    "#flat = Flatten(name='flat')(l4_us)\n",
    "\n",
    "#l5 = Dense((250, 250), activation='relu', name='l5')(flat)\n",
    "\n",
    "#l5 = Dense(n_classes, activation='softmax', name='l5')(l4)\n",
    "\n",
    "model = Model(inputs=l0, outputs=l5)\n",
    "model.summary()"
   ]
  },
  {
   "cell_type": "code",
   "execution_count": null,
   "id": "85f09670",
   "metadata": {},
   "outputs": [],
   "source": [
    "# OTHER\n",
    "\n",
    "l0 = Input(shape=(50, 50, 7), name='l0')\n",
    "l0_n = BatchNormalization()(l0)\n",
    "\n",
    "l1 = Conv2D(7, (5, 5), padding='same', activation='tanh', name='l1')(l0_n)\n",
    "l1_pad = layers.ZeroPadding2D(padding=(2, 2))(l1)\n",
    "\n",
    "l2 = layers.LocallyConnected2D(1, (5, 5), activation='relu', name='l2')(l1_pad)\n",
    "\n",
    "model = Model(inputs=l0, outputs=l2)\n",
    "model.summary()"
   ]
  },
  {
   "cell_type": "code",
   "execution_count": null,
   "id": "04caa40c",
   "metadata": {
    "scrolled": false
   },
   "outputs": [],
   "source": [
    "l0 = Input(shape=(50, 50, 7), name='l0')\n",
    "l0_n = BatchNormalization()(l0)\n",
    "\n",
    "l1 = Conv2D(14, (5, 5), padding='same', activation='tanh', name='l1')(l0_n)\n",
    "\n",
    "l2 = Conv2D(28, (3, 3), padding='same', activation='relu', name='l2')(l1)\n",
    "l2_pad = layers.ZeroPadding2D(padding=(2, 2))(l2)\n",
    "\n",
    "l3 = layers.LocallyConnected2D(28, (5, 5), activation='relu', name='l3')(l2_pad)\n",
    "\n",
    "l4 = Conv2D(14, (3, 3), padding='same', activation='selu', name='l4')(l3)\n",
    "\n",
    "l5 = Conv2D(7, (3, 3), padding='same', activation='softmax', name='l5')(l4)\n",
    "l5_pad = layers.ZeroPadding2D(padding=(1, 1))(l5)\n",
    "\n",
    "l6 = layers.LocallyConnected2D(1, (3, 3), activation='relu', name='l6')(l5_pad)\n",
    "\n",
    "model = Model(inputs=l0, outputs=l6)\n",
    "model.summary()"
   ]
  },
  {
   "cell_type": "code",
   "execution_count": null,
   "id": "26d85979",
   "metadata": {
    "scrolled": true
   },
   "outputs": [],
   "source": [
    "batch_size = 32\n",
    "n_epoch = 100\n",
    "\n",
    "#model.compile(loss='categorical_crossentropy', optimizer=Adam, metrics=['accuracy'])\n",
    "model.compile(loss='mean_absolute_percentage_error', optimizer='RMSprop', metrics=['mean_absolute_percentage_error'])\n",
    "history = model.fit(X_train, Y_train, batch_size=batch_size, epochs=n_epoch, verbose=1, validation_data=(X_test, Y_test))"
   ]
  },
  {
   "cell_type": "code",
   "execution_count": null,
   "id": "d8ea2c94",
   "metadata": {},
   "outputs": [],
   "source": [
    "temp = X_train[0]\n",
    "\n",
    "print(temp.shape)\n",
    "\n",
    "temp = np.swapaxes(temp, 1, 2)\n",
    "\n",
    "print(temp.shape)\n",
    "\n",
    "temp = np.swapaxes(temp, 0, 1)\n",
    "\n",
    "print(temp.shape)"
   ]
  },
  {
   "cell_type": "code",
   "execution_count": null,
   "id": "c86de18b",
   "metadata": {},
   "outputs": [],
   "source": [
    "for band in temp:\n",
    "    \n",
    "    print(np.amin(band))\n",
    "    print(np.amax(band))\n",
    "    print(\"--------------\")\n",
    "\n",
    "tempR = temp.reshape(7, 250000).astype('float64')\n",
    "    \n",
    "bins = []\n",
    "step = 0.01\n",
    "\n",
    "for i in range(0, 55):\n",
    "    bins.append(step * i * 1.0)\n",
    "\n",
    "plt.hist(tempR[0])  # arguments are passed to np.histogram\n",
    "plt.title(\"X_train[0][0] - Histogram\")\n",
    "\n",
    "plt.show()"
   ]
  },
  {
   "cell_type": "code",
   "execution_count": null,
   "id": "37437575",
   "metadata": {},
   "outputs": [],
   "source": [
    "temp = Y_train[0]\n",
    "\n",
    "temp = temp.reshape(250000).astype('float64')\n",
    "\n",
    "print(np.amin(temp))\n",
    "print(np.amax(temp))\n",
    "\n",
    "bins = []\n",
    "step = 0.02\n",
    "\n",
    "for i in range(0, 45):\n",
    "    bins.append(step * i * 1.0)\n",
    "\n",
    "plt.hist(temp, bins=bins)  # arguments are passed to np.histogram\n",
    "plt.title(\"Y_train[0] - Histogram\")\n",
    "\n",
    "plt.show()"
   ]
  },
  {
   "cell_type": "code",
   "execution_count": null,
   "id": "3799942b",
   "metadata": {},
   "outputs": [],
   "source": [
    "# Search Min diff\n",
    "\n",
    "temp = Y_train[0]\n",
    "temp = temp.reshape(250000).astype('float64')\n",
    "\n",
    "minDiff = np.amax(temp)\n",
    "\n",
    "for i in range(1, len(temp)):\n",
    "    \n",
    "    tempDiff = abs(temp[i - 1] - temp[i])\n",
    "    \n",
    "    if tempDiff != 0 and tempDiff < minDiff :\n",
    "        minDiff = tempDiff\n",
    "        \n",
    "print(minDiff)"
   ]
  },
  {
   "cell_type": "code",
   "execution_count": null,
   "id": "c1687996",
   "metadata": {},
   "outputs": [],
   "source": [
    "temp = Y_train\n",
    "temp = temp.reshape(150000000).astype('float64')\n",
    "\n",
    "print(np.amax(temp))\n",
    "\n",
    "bins = []\n",
    "step = 0.02\n",
    "\n",
    "for i in range(0, 45):\n",
    "    bins.append(step * i * 1.0)\n",
    "\n",
    "plt.hist(temp, bins=bins)  # arguments are passed to np.histogram\n",
    "plt.title(\"Y_train[0] - Histogram\")\n",
    "\n",
    "plt.show()"
   ]
  },
  {
   "cell_type": "code",
   "execution_count": null,
   "id": "c63deb60",
   "metadata": {},
   "outputs": [],
   "source": [
    "print(temp[1])\n",
    "print(type(temp[0]))"
   ]
  },
  {
   "cell_type": "code",
   "execution_count": null,
   "id": "8dce009f",
   "metadata": {},
   "outputs": [],
   "source": [
    "print(np.amax(Y_train))\n",
    "print(np.amin(Y_train))"
   ]
  },
  {
   "cell_type": "code",
   "execution_count": null,
   "id": "c0ac9c9e",
   "metadata": {},
   "outputs": [],
   "source": [
    "Y_train = Y_train.round(7)"
   ]
  },
  {
   "cell_type": "code",
   "execution_count": null,
   "id": "36d2ab16",
   "metadata": {},
   "outputs": [],
   "source": [
    "print(np.amax(Y_train))\n",
    "print(np.amin(Y_train))"
   ]
  },
  {
   "cell_type": "code",
   "execution_count": null,
   "id": "3c5b241c",
   "metadata": {},
   "outputs": [],
   "source": [
    "plt.plot(history.history['loss'], label='Training')\n",
    "plt.plot(history.history['val_loss'], label='Testing')\n",
    "plt.legend()\n",
    "plt.grid()\n",
    "\n",
    "score = model.evaluate(X_test, Y_test, verbose=0)\n",
    "print('Test score:', score[0])\n",
    "\n",
    "print('Test accuracy:', score[1])"
   ]
  },
  {
   "cell_type": "code",
   "execution_count": null,
   "id": "460df707",
   "metadata": {},
   "outputs": [],
   "source": [
    "history = model.fit(X_train, Y_train, batch_size=batch_size, epochs=3, verbose=1, validation_data=(X_test, Y_test), initial_epoch=0)"
   ]
  },
  {
   "cell_type": "code",
   "execution_count": null,
   "id": "6cc409f3",
   "metadata": {},
   "outputs": [],
   "source": [
    "p = getIndicesPermutation(folderStart, '*.npz')\n",
    "\n",
    "#for index in p:\n",
    "#    print(index)\n",
    "    \n",
    "ok = True\n",
    "    \n",
    "for i in range(12432):\n",
    "    \n",
    "    ok = ok and (i in p)\n",
    "    \n",
    "print(ok)"
   ]
  },
  {
   "cell_type": "code",
   "execution_count": null,
   "id": "0f05c887",
   "metadata": {},
   "outputs": [],
   "source": []
  },
  {
   "cell_type": "code",
   "execution_count": null,
   "id": "bc368248",
   "metadata": {},
   "outputs": [],
   "source": []
  },
  {
   "cell_type": "code",
   "execution_count": null,
   "id": "78bca132",
   "metadata": {},
   "outputs": [],
   "source": []
  },
  {
   "cell_type": "code",
   "execution_count": null,
   "id": "10b3d00d",
   "metadata": {},
   "outputs": [],
   "source": []
  }
 ],
 "metadata": {
  "kernelspec": {
   "display_name": "Python 3",
   "language": "python",
   "name": "python3"
  },
  "language_info": {
   "codemirror_mode": {
    "name": "ipython",
    "version": 3
   },
   "file_extension": ".py",
   "mimetype": "text/x-python",
   "name": "python",
   "nbconvert_exporter": "python",
   "pygments_lexer": "ipython3",
   "version": "3.6.13"
  }
 },
 "nbformat": 4,
 "nbformat_minor": 5
}
